{
 "cells": [
  {
   "cell_type": "code",
   "execution_count": 2,
   "metadata": {},
   "outputs": [
    {
     "name": "stdout",
     "output_type": "stream",
     "text": [
      "10\n",
      "9\n",
      "8\n",
      "7\n",
      "6\n",
      "5\n",
      "4\n",
      "3\n",
      "2\n",
      "1\n"
     ]
    }
   ],
   "source": [
    "c = 10\n",
    "while c>0:\n",
    "    print(c)\n",
    "    c-=1"
   ]
  },
  {
   "cell_type": "code",
   "execution_count": 5,
   "metadata": {},
   "outputs": [
    {
     "name": "stdout",
     "output_type": "stream",
     "text": [
      "0\n",
      "1\n",
      "2\n",
      "3\n",
      "4\n"
     ]
    },
    {
     "ename": "KeyboardInterrupt",
     "evalue": "",
     "output_type": "error",
     "traceback": [
      "\u001b[0;31m---------------------------------------------------------------------------\u001b[0m",
      "\u001b[0;31mKeyboardInterrupt\u001b[0m                         Traceback (most recent call last)",
      "\u001b[1;32m/Users/sreekantht/Desktop/ITM Python/while_stats.ipynb Cell 2\u001b[0m in \u001b[0;36m<cell line: 2>\u001b[0;34m()\u001b[0m\n\u001b[1;32m      <a href='vscode-notebook-cell:/Users/sreekantht/Desktop/ITM%20Python/while_stats.ipynb#ch0000001?line=0'>1</a>\u001b[0m n \u001b[39m=\u001b[39m \u001b[39m0\u001b[39m\n\u001b[1;32m      <a href='vscode-notebook-cell:/Users/sreekantht/Desktop/ITM%20Python/while_stats.ipynb#ch0000001?line=1'>2</a>\u001b[0m \u001b[39mwhile\u001b[39;00m n\u001b[39m<\u001b[39m\u001b[39m10\u001b[39m:\n\u001b[0;32m----> <a href='vscode-notebook-cell:/Users/sreekantht/Desktop/ITM%20Python/while_stats.ipynb#ch0000001?line=2'>3</a>\u001b[0m     \u001b[39mif\u001b[39;00m n\u001b[39m==\u001b[39;49m\u001b[39m5\u001b[39;49m:\n\u001b[1;32m      <a href='vscode-notebook-cell:/Users/sreekantht/Desktop/ITM%20Python/while_stats.ipynb#ch0000001?line=3'>4</a>\u001b[0m         \u001b[39mcontinue\u001b[39;00m\n\u001b[1;32m      <a href='vscode-notebook-cell:/Users/sreekantht/Desktop/ITM%20Python/while_stats.ipynb#ch0000001?line=4'>5</a>\u001b[0m     \u001b[39mprint\u001b[39m(n)\n",
      "\u001b[0;31mKeyboardInterrupt\u001b[0m: "
     ]
    }
   ],
   "source": [
    "n = 0\n",
    "while n<10:\n",
    "    if n==5:\n",
    "        continue\n",
    "    print(n)\n",
    "    n+=1\n"
   ]
  },
  {
   "cell_type": "code",
   "execution_count": 10,
   "metadata": {},
   "outputs": [
    {
     "name": "stdout",
     "output_type": "stream",
     "text": [
      "8\n",
      "8\n",
      "8\n",
      "6\n",
      "7\n",
      "4\n",
      "4\n",
      "5\n",
      "done\n"
     ]
    }
   ],
   "source": [
    "c = 0\n",
    "while c<1:\n",
    "    n = int(input(\"enter a number\"))\n",
    "    print(n)\n",
    "    if n==5:\n",
    "        c+=1\n",
    "print(\"done\")"
   ]
  },
  {
   "cell_type": "code",
   "execution_count": null,
   "metadata": {},
   "outputs": [],
   "source": [
    "150 pip and pop\n",
    "151\n",
    "152 \n",
    "153 pop\n",
    "154\n",
    "155 pip"
   ]
  },
  {
   "cell_type": "code",
   "execution_count": 12,
   "metadata": {},
   "outputs": [
    {
     "name": "stdout",
     "output_type": "stream",
     "text": [
      "150 pip and pop\n",
      "151\n",
      "152\n",
      "153 pip\n",
      "154\n",
      "155 pop\n",
      "156 pip\n",
      "157\n",
      "158\n",
      "159 pip\n",
      "160 pop\n",
      "161\n",
      "162 pip\n",
      "163\n",
      "164\n",
      "165 pip and pop\n",
      "166\n",
      "167\n",
      "168 pip\n",
      "169\n",
      "170 pop\n",
      "171 pip\n",
      "172\n",
      "173\n",
      "174 pip\n",
      "175 pop\n",
      "176\n",
      "177 pip\n",
      "178\n",
      "179\n",
      "180 pip and pop\n",
      "181\n",
      "182\n",
      "183 pip\n",
      "184\n",
      "185 pop\n",
      "186 pip\n",
      "187\n",
      "188\n",
      "189 pip\n",
      "190 pop\n",
      "191\n",
      "192 pip\n",
      "193\n",
      "194\n",
      "195 pip and pop\n",
      "196\n",
      "197\n",
      "198 pip\n",
      "199\n",
      "200 pop\n",
      "201 pip\n",
      "202\n",
      "203\n",
      "204 pip\n",
      "205 pop\n",
      "206\n",
      "207 pip\n",
      "208\n",
      "209\n",
      "210 pip and pop\n",
      "211\n",
      "212\n",
      "213 pip\n",
      "214\n",
      "215 pop\n",
      "216 pip\n",
      "217\n",
      "218\n",
      "219 pip\n",
      "220 pop\n",
      "221\n",
      "222 pip\n",
      "223\n",
      "224\n",
      "225 pip and pop\n",
      "226\n",
      "227\n",
      "228 pip\n",
      "229\n",
      "230 pop\n",
      "231 pip\n",
      "232\n",
      "233\n",
      "234 pip\n",
      "235 pop\n",
      "236\n",
      "237 pip\n",
      "238\n",
      "239\n",
      "240 pip and pop\n",
      "241\n",
      "242\n",
      "243 pip\n",
      "244\n",
      "245 pop\n",
      "246 pip\n",
      "247\n",
      "248\n",
      "249 pip\n",
      "250 pop\n",
      "251\n",
      "252 pip\n",
      "253\n",
      "254\n",
      "255 pip and pop\n",
      "256\n",
      "257\n",
      "258 pip\n",
      "259\n",
      "260 pop\n",
      "261 pip\n",
      "262\n",
      "263\n",
      "264 pip\n",
      "265 pop\n",
      "266\n",
      "267 pip\n",
      "268\n",
      "269\n",
      "270 pip and pop\n",
      "271\n",
      "272\n",
      "273 pip\n",
      "274\n",
      "275 pop\n",
      "276 pip\n",
      "277\n",
      "278\n",
      "279 pip\n",
      "280 pop\n",
      "281\n",
      "282 pip\n",
      "283\n",
      "284\n",
      "285 pip and pop\n",
      "286\n",
      "287\n",
      "288 pip\n",
      "289\n",
      "290 pop\n",
      "291 pip\n",
      "292\n",
      "293\n",
      "294 pip\n",
      "295 pop\n",
      "296\n",
      "297 pip\n",
      "298\n",
      "299\n"
     ]
    }
   ],
   "source": [
    "n = 150 \n",
    "while n<300:\n",
    "    if n%5==0 and n%3==0:\n",
    "        print(n,\"pip and pop\")\n",
    "    elif n%5==0:\n",
    "        print(n,\"pop\")\n",
    "    elif n%3==0:\n",
    "        print(n,\"pip\")\n",
    "    else:\n",
    "        print(n)\n",
    "    n+=1"
   ]
  },
  {
   "cell_type": "code",
   "execution_count": 13,
   "metadata": {},
   "outputs": [
    {
     "data": {
      "text/plain": [
       "range(0, 10)"
      ]
     },
     "execution_count": 13,
     "metadata": {},
     "output_type": "execute_result"
    }
   ],
   "source": [
    "range(10)"
   ]
  },
  {
   "cell_type": "code",
   "execution_count": 16,
   "metadata": {},
   "outputs": [
    {
     "data": {
      "text/plain": [
       "[0,\n",
       " 2,\n",
       " 4,\n",
       " 6,\n",
       " 8,\n",
       " 10,\n",
       " 12,\n",
       " 14,\n",
       " 16,\n",
       " 18,\n",
       " 20,\n",
       " 22,\n",
       " 24,\n",
       " 26,\n",
       " 28,\n",
       " 30,\n",
       " 32,\n",
       " 34,\n",
       " 36,\n",
       " 38,\n",
       " 40,\n",
       " 42,\n",
       " 44,\n",
       " 46,\n",
       " 48,\n",
       " 50,\n",
       " 52,\n",
       " 54,\n",
       " 56,\n",
       " 58,\n",
       " 60,\n",
       " 62,\n",
       " 64,\n",
       " 66,\n",
       " 68,\n",
       " 70,\n",
       " 72,\n",
       " 74,\n",
       " 76,\n",
       " 78,\n",
       " 80,\n",
       " 82,\n",
       " 84,\n",
       " 86,\n",
       " 88,\n",
       " 90,\n",
       " 92,\n",
       " 94,\n",
       " 96,\n",
       " 98]"
      ]
     },
     "execution_count": 16,
     "metadata": {},
     "output_type": "execute_result"
    }
   ],
   "source": [
    "list(range(0,100,2))"
   ]
  },
  {
   "cell_type": "code",
   "execution_count": null,
   "metadata": {},
   "outputs": [],
   "source": [
    "for variables in series_object:\n",
    "    code "
   ]
  },
  {
   "cell_type": "code",
   "execution_count": 19,
   "metadata": {},
   "outputs": [],
   "source": [
    "d= {\"a\":1234,\"b\":3456,\"c\":6789}"
   ]
  },
  {
   "cell_type": "code",
   "execution_count": 20,
   "metadata": {},
   "outputs": [
    {
     "name": "stdout",
     "output_type": "stream",
     "text": [
      "a\n",
      "b\n",
      "c\n"
     ]
    }
   ],
   "source": [
    "for i in d.keys():\n",
    "    print(i)"
   ]
  },
  {
   "cell_type": "code",
   "execution_count": 18,
   "metadata": {},
   "outputs": [
    {
     "name": "stdout",
     "output_type": "stream",
     "text": [
      "she\n",
      "he\n",
      "it\n"
     ]
    }
   ],
   "source": [
    "for i in [\"she\",\"he\",\"it\"]:\n",
    "    print(i)"
   ]
  },
  {
   "cell_type": "code",
   "execution_count": 21,
   "metadata": {},
   "outputs": [
    {
     "name": "stdout",
     "output_type": "stream",
     "text": [
      "150 pip and pop\n",
      "151\n",
      "152\n",
      "153 pip\n",
      "154\n",
      "155 pop\n",
      "156 pip\n",
      "157\n",
      "158\n",
      "159 pip\n",
      "160 pop\n",
      "161\n",
      "162 pip\n",
      "163\n",
      "164\n",
      "165 pip and pop\n",
      "166\n",
      "167\n",
      "168 pip\n",
      "169\n",
      "170 pop\n",
      "171 pip\n",
      "172\n",
      "173\n",
      "174 pip\n",
      "175 pop\n",
      "176\n",
      "177 pip\n",
      "178\n",
      "179\n",
      "180 pip and pop\n",
      "181\n",
      "182\n",
      "183 pip\n",
      "184\n",
      "185 pop\n",
      "186 pip\n",
      "187\n",
      "188\n",
      "189 pip\n",
      "190 pop\n",
      "191\n",
      "192 pip\n",
      "193\n",
      "194\n",
      "195 pip and pop\n",
      "196\n",
      "197\n",
      "198 pip\n",
      "199\n",
      "200 pop\n",
      "201 pip\n",
      "202\n",
      "203\n",
      "204 pip\n",
      "205 pop\n",
      "206\n",
      "207 pip\n",
      "208\n",
      "209\n",
      "210 pip and pop\n",
      "211\n",
      "212\n",
      "213 pip\n",
      "214\n",
      "215 pop\n",
      "216 pip\n",
      "217\n",
      "218\n",
      "219 pip\n",
      "220 pop\n",
      "221\n",
      "222 pip\n",
      "223\n",
      "224\n",
      "225 pip and pop\n",
      "226\n",
      "227\n",
      "228 pip\n",
      "229\n",
      "230 pop\n",
      "231 pip\n",
      "232\n",
      "233\n",
      "234 pip\n",
      "235 pop\n",
      "236\n",
      "237 pip\n",
      "238\n",
      "239\n",
      "240 pip and pop\n",
      "241\n",
      "242\n",
      "243 pip\n",
      "244\n",
      "245 pop\n",
      "246 pip\n",
      "247\n",
      "248\n",
      "249 pip\n",
      "250 pop\n",
      "251\n",
      "252 pip\n",
      "253\n",
      "254\n",
      "255 pip and pop\n",
      "256\n",
      "257\n",
      "258 pip\n",
      "259\n",
      "260 pop\n",
      "261 pip\n",
      "262\n",
      "263\n",
      "264 pip\n",
      "265 pop\n",
      "266\n",
      "267 pip\n",
      "268\n",
      "269\n",
      "270 pip and pop\n",
      "271\n",
      "272\n",
      "273 pip\n",
      "274\n",
      "275 pop\n",
      "276 pip\n",
      "277\n",
      "278\n",
      "279 pip\n",
      "280 pop\n",
      "281\n",
      "282 pip\n",
      "283\n",
      "284\n",
      "285 pip and pop\n",
      "286\n",
      "287\n",
      "288 pip\n",
      "289\n",
      "290 pop\n",
      "291 pip\n",
      "292\n",
      "293\n",
      "294 pip\n",
      "295 pop\n",
      "296\n",
      "297 pip\n",
      "298\n",
      "299\n"
     ]
    }
   ],
   "source": [
    "for n in range(150,300):\n",
    "    if n%5==0 and n%3==0:\n",
    "        print(n,\"pip and pop\")\n",
    "    elif n%5==0:\n",
    "        print(n,\"pop\")\n",
    "    elif n%3==0:\n",
    "        print(n,\"pip\")\n",
    "    else:\n",
    "        print(n)\n",
    "    "
   ]
  },
  {
   "cell_type": "code",
   "execution_count": null,
   "metadata": {},
   "outputs": [],
   "source": []
  },
  {
   "cell_type": "code",
   "execution_count": 23,
   "metadata": {},
   "outputs": [
    {
     "ename": "TypeError",
     "evalue": "'float' object is not iterable",
     "output_type": "error",
     "traceback": [
      "\u001b[0;31m---------------------------------------------------------------------------\u001b[0m",
      "\u001b[0;31mTypeError\u001b[0m                                 Traceback (most recent call last)",
      "\u001b[1;32m/Users/sreekantht/Desktop/ITM Python/while_stats.ipynb Cell 14\u001b[0m in \u001b[0;36m<cell line: 1>\u001b[0;34m()\u001b[0m\n\u001b[0;32m----> <a href='vscode-notebook-cell:/Users/sreekantht/Desktop/ITM%20Python/while_stats.ipynb#ch0000013?line=0'>1</a>\u001b[0m \u001b[39mfor\u001b[39;00m i \u001b[39min\u001b[39;00m \u001b[39m7.8\u001b[39m:\n\u001b[1;32m      <a href='vscode-notebook-cell:/Users/sreekantht/Desktop/ITM%20Python/while_stats.ipynb#ch0000013?line=1'>2</a>\u001b[0m     \u001b[39mprint\u001b[39m(i)\n",
      "\u001b[0;31mTypeError\u001b[0m: 'float' object is not iterable"
     ]
    }
   ],
   "source": [
    "for i in 7.8:\n",
    "    print(i)"
   ]
  },
  {
   "cell_type": "code",
   "execution_count": 26,
   "metadata": {},
   "outputs": [
    {
     "name": "stdout",
     "output_type": "stream",
     "text": [
      "0\n",
      "1\n",
      "2\n",
      "3\n",
      "4\n",
      "6\n",
      "7\n",
      "8\n",
      "9\n",
      "done\n"
     ]
    }
   ],
   "source": [
    "for i in range(10):\n",
    "    if i==5:\n",
    "        continue\n",
    "    print(i) \n",
    "print(\"done\")"
   ]
  },
  {
   "cell_type": "code",
   "execution_count": 29,
   "metadata": {},
   "outputs": [
    {
     "data": {
      "text/plain": [
       "{1: 1, 2: 4, 3: 9}"
      ]
     },
     "execution_count": 29,
     "metadata": {},
     "output_type": "execute_result"
    }
   ],
   "source": [
    "n = 3\n",
    "d = {}\n",
    "for i in range(1,n+1):\n",
    "    d[i] = i**2\n",
    "d\n",
    "# {1:1,2:4,3:9}"
   ]
  },
  {
   "cell_type": "code",
   "execution_count": 30,
   "metadata": {},
   "outputs": [
    {
     "data": {
      "text/plain": [
       "{1: 1, 2: 4, 3: 9}"
      ]
     },
     "execution_count": 30,
     "metadata": {},
     "output_type": "execute_result"
    }
   ],
   "source": [
    "d = {i:i**2 for i in range(1,n+1)}\n",
    "d"
   ]
  },
  {
   "cell_type": "code",
   "execution_count": 32,
   "metadata": {},
   "outputs": [
    {
     "data": {
      "text/plain": [
       "['hoffman', 'jack', 'rim']"
      ]
     },
     "execution_count": 32,
     "metadata": {},
     "output_type": "execute_result"
    }
   ],
   "source": [
    "age = {\"hoffman\":56,\"rim\":178,\"jack\":34}\n",
    "sorted(age)"
   ]
  },
  {
   "cell_type": "code",
   "execution_count": null,
   "metadata": {},
   "outputs": [],
   "source": [
    "sorted"
   ]
  },
  {
   "cell_type": "code",
   "execution_count": null,
   "metadata": {},
   "outputs": [],
   "source": []
  }
 ],
 "metadata": {
  "kernelspec": {
   "display_name": "Python 3.9.7 64-bit",
   "language": "python",
   "name": "python3"
  },
  "language_info": {
   "codemirror_mode": {
    "name": "ipython",
    "version": 3
   },
   "file_extension": ".py",
   "mimetype": "text/x-python",
   "name": "python",
   "nbconvert_exporter": "python",
   "pygments_lexer": "ipython3",
   "version": "3.9.7"
  },
  "orig_nbformat": 4,
  "vscode": {
   "interpreter": {
    "hash": "397704579725e15f5c7cb49fe5f0341eb7531c82d19f2c29d197e8b64ab5776b"
   }
  }
 },
 "nbformat": 4,
 "nbformat_minor": 2
}
