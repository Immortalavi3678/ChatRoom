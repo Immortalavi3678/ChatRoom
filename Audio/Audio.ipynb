{
 "cells": [
  {
   "cell_type": "code",
   "execution_count": null,
   "metadata": {},
   "outputs": [],
   "source": [
    "from gtts import gTTS\n",
    "tts = gTTS('Hello! This is Immortal Aviator')\n",
    "tts.save('Hello.mp3')"
   ]
  },
  {
   "cell_type": "code",
   "execution_count": 2,
   "metadata": {},
   "outputs": [
    {
     "name": "stderr",
     "output_type": "stream",
     "text": [
      "\n",
      "    Error 263 for command:\n",
      "        close Hello.mp3\n",
      "    The specified device is not open or is not recognized by MCI.\n",
      "Failed to close the file: Hello.mp3\n"
     ]
    }
   ],
   "source": [
    "from playsound import playsound\n",
    "playsound('Hello.mp3')"
   ]
  },
  {
   "cell_type": "code",
   "execution_count": 8,
   "metadata": {},
   "outputs": [
    {
     "name": "stderr",
     "output_type": "stream",
     "text": [
      "\n",
      "    Error 263 for command:\n",
      "        close Hello.mp3\n",
      "    The specified device is not open or is not recognized by MCI.\n",
      "Failed to close the file: Hello.mp3\n"
     ]
    }
   ],
   "source": [
    "from playsound import playsound\n",
    "playsound('Hello.mp3')"
   ]
  },
  {
   "cell_type": "code",
   "execution_count": 3,
   "metadata": {},
   "outputs": [
    {
     "ename": "AttributeError",
     "evalue": "'ToastNotifier' object has no attribute 'classAtom'",
     "output_type": "error",
     "traceback": [
      "\u001b[1;31m---------------------------------------------------------------------------\u001b[0m",
      "\u001b[1;31mAttributeError\u001b[0m                            Traceback (most recent call last)",
      "\u001b[1;32mc:\\Users\\hrhim\\OneDrive\\Desktop\\TAP Python\\Apna Hisaab Kitaab\\Audio\\Audio.ipynb Cell 4\u001b[0m in \u001b[0;36m<cell line: 3>\u001b[1;34m()\u001b[0m\n\u001b[0;32m      <a href='vscode-notebook-cell:/c%3A/Users/hrhim/OneDrive/Desktop/TAP%20Python/Apna%20Hisaab%20Kitaab/Audio/Audio.ipynb#ch0000003?line=0'>1</a>\u001b[0m \u001b[39mfrom\u001b[39;00m \u001b[39mwintoast\u001b[39;00m \u001b[39mimport\u001b[39;00m ToastNotifier\n\u001b[0;32m      <a href='vscode-notebook-cell:/c%3A/Users/hrhim/OneDrive/Desktop/TAP%20Python/Apna%20Hisaab%20Kitaab/Audio/Audio.ipynb#ch0000003?line=1'>2</a>\u001b[0m toaster \u001b[39m=\u001b[39m ToastNotifier()\n\u001b[1;32m----> <a href='vscode-notebook-cell:/c%3A/Users/hrhim/OneDrive/Desktop/TAP%20Python/Apna%20Hisaab%20Kitaab/Audio/Audio.ipynb#ch0000003?line=2'>3</a>\u001b[0m toaster\u001b[39m.\u001b[39;49mshow_toast(\u001b[39m\"\u001b[39;49m\u001b[39mHello World!!!\u001b[39;49m\u001b[39m\"\u001b[39;49m,\n\u001b[0;32m      <a href='vscode-notebook-cell:/c%3A/Users/hrhim/OneDrive/Desktop/TAP%20Python/Apna%20Hisaab%20Kitaab/Audio/Audio.ipynb#ch0000003?line=3'>4</a>\u001b[0m                    \u001b[39m\"\u001b[39;49m\u001b[39mPython is 10 seconds awsm!\u001b[39;49m\u001b[39m\"\u001b[39;49m,\n\u001b[0;32m      <a href='vscode-notebook-cell:/c%3A/Users/hrhim/OneDrive/Desktop/TAP%20Python/Apna%20Hisaab%20Kitaab/Audio/Audio.ipynb#ch0000003?line=4'>5</a>\u001b[0m                    icon_path\u001b[39m=\u001b[39;49m\u001b[39m\"\u001b[39;49m\u001b[39mcustom.ico\u001b[39;49m\u001b[39m\"\u001b[39;49m,\n\u001b[0;32m      <a href='vscode-notebook-cell:/c%3A/Users/hrhim/OneDrive/Desktop/TAP%20Python/Apna%20Hisaab%20Kitaab/Audio/Audio.ipynb#ch0000003?line=5'>6</a>\u001b[0m                    duration\u001b[39m=\u001b[39;49m\u001b[39m20\u001b[39;49m)\n\u001b[0;32m      <a href='vscode-notebook-cell:/c%3A/Users/hrhim/OneDrive/Desktop/TAP%20Python/Apna%20Hisaab%20Kitaab/Audio/Audio.ipynb#ch0000003?line=7'>8</a>\u001b[0m toaster\u001b[39m.\u001b[39mshow_toast(\u001b[39m\"\u001b[39m\u001b[39mExample two\u001b[39m\u001b[39m\"\u001b[39m,\n\u001b[0;32m      <a href='vscode-notebook-cell:/c%3A/Users/hrhim/OneDrive/Desktop/TAP%20Python/Apna%20Hisaab%20Kitaab/Audio/Audio.ipynb#ch0000003?line=8'>9</a>\u001b[0m                    \u001b[39m\"\u001b[39m\u001b[39mThis notification is in it\u001b[39m\u001b[39m'\u001b[39m\u001b[39ms own thread!\u001b[39m\u001b[39m\"\u001b[39m,\n\u001b[0;32m     <a href='vscode-notebook-cell:/c%3A/Users/hrhim/OneDrive/Desktop/TAP%20Python/Apna%20Hisaab%20Kitaab/Audio/Audio.ipynb#ch0000003?line=9'>10</a>\u001b[0m                    icon_path\u001b[39m=\u001b[39m\u001b[39mNone\u001b[39;00m,\n\u001b[0;32m     <a href='vscode-notebook-cell:/c%3A/Users/hrhim/OneDrive/Desktop/TAP%20Python/Apna%20Hisaab%20Kitaab/Audio/Audio.ipynb#ch0000003?line=10'>11</a>\u001b[0m                    duration\u001b[39m=\u001b[39m\u001b[39m20\u001b[39m,\n\u001b[0;32m     <a href='vscode-notebook-cell:/c%3A/Users/hrhim/OneDrive/Desktop/TAP%20Python/Apna%20Hisaab%20Kitaab/Audio/Audio.ipynb#ch0000003?line=11'>12</a>\u001b[0m                    threaded\u001b[39m=\u001b[39m\u001b[39mTrue\u001b[39;00m)\n\u001b[0;32m     <a href='vscode-notebook-cell:/c%3A/Users/hrhim/OneDrive/Desktop/TAP%20Python/Apna%20Hisaab%20Kitaab/Audio/Audio.ipynb#ch0000003?line=12'>13</a>\u001b[0m \u001b[39m# Wait for threaded notification to finish\u001b[39;00m\n",
      "File \u001b[1;32mc:\\Users\\hrhim\\AppData\\Local\\Programs\\Python\\Python39\\lib\\site-packages\\wintoast\\__init__.py:141\u001b[0m, in \u001b[0;36mToastNotifier.show_toast\u001b[1;34m(self, title, msg, icon_path, duration, threaded, callback_on_click)\u001b[0m\n\u001b[0;32m    134\u001b[0m \u001b[39m\"\"\"Notification settings.\u001b[39;00m\n\u001b[0;32m    135\u001b[0m \u001b[39m:title: notification title\u001b[39;00m\n\u001b[0;32m    136\u001b[0m \u001b[39m:msg: notification message\u001b[39;00m\n\u001b[0;32m    137\u001b[0m \u001b[39m:icon_path: path to the .ico file to custom notification\u001b[39;00m\n\u001b[0;32m    138\u001b[0m \u001b[39m:duration: delay in seconds before notification self-destruction\u001b[39;00m\n\u001b[0;32m    139\u001b[0m \u001b[39m\"\"\"\u001b[39;00m\n\u001b[0;32m    140\u001b[0m \u001b[39mif\u001b[39;00m \u001b[39mnot\u001b[39;00m threaded:\n\u001b[1;32m--> 141\u001b[0m     \u001b[39mself\u001b[39;49m\u001b[39m.\u001b[39;49m_show_toast(title, msg, icon_path, duration, callback_on_click)\n\u001b[0;32m    142\u001b[0m \u001b[39melse\u001b[39;00m:\n\u001b[0;32m    143\u001b[0m     \u001b[39mif\u001b[39;00m \u001b[39mself\u001b[39m\u001b[39m.\u001b[39mnotification_active():\n\u001b[0;32m    144\u001b[0m         \u001b[39m# We have an active notification, let is finish so we don't spam them\u001b[39;00m\n",
      "File \u001b[1;32mc:\\Users\\hrhim\\AppData\\Local\\Programs\\Python\\Python39\\lib\\site-packages\\wintoast\\__init__.py:97\u001b[0m, in \u001b[0;36mToastNotifier._show_toast\u001b[1;34m(self, title, msg, icon_path, duration, callback_on_click)\u001b[0m\n\u001b[0;32m     95\u001b[0m     \u001b[39mpass\u001b[39;00m  \u001b[39m# not sure of this\u001b[39;00m\n\u001b[0;32m     96\u001b[0m style \u001b[39m=\u001b[39m WS_OVERLAPPED \u001b[39m|\u001b[39m WS_SYSMENU\n\u001b[1;32m---> 97\u001b[0m \u001b[39mself\u001b[39m\u001b[39m.\u001b[39mhwnd \u001b[39m=\u001b[39m CreateWindow(\u001b[39mself\u001b[39;49m\u001b[39m.\u001b[39;49mclassAtom, \u001b[39m\"\u001b[39m\u001b[39mTaskbar\u001b[39m\u001b[39m\"\u001b[39m, style,\n\u001b[0;32m     98\u001b[0m                          \u001b[39m0\u001b[39m, \u001b[39m0\u001b[39m, CW_USEDEFAULT,\n\u001b[0;32m     99\u001b[0m                          CW_USEDEFAULT,\n\u001b[0;32m    100\u001b[0m                          \u001b[39m0\u001b[39m, \u001b[39m0\u001b[39m, \u001b[39mself\u001b[39m\u001b[39m.\u001b[39mhinst, \u001b[39mNone\u001b[39;00m)\n\u001b[0;32m    101\u001b[0m UpdateWindow(\u001b[39mself\u001b[39m\u001b[39m.\u001b[39mhwnd)\n\u001b[0;32m    103\u001b[0m \u001b[39m# icon\u001b[39;00m\n",
      "\u001b[1;31mAttributeError\u001b[0m: 'ToastNotifier' object has no attribute 'classAtom'"
     ]
    }
   ],
   "source": [
    "from wintoast import ToastNotifier\n",
    "toaster = ToastNotifier()\n",
    "toaster.show_toast(\"Hello World!!!\",\n",
    "                   \"Python is 10 seconds awsm!\",\n",
    "                   icon_path=\"custom.ico\",\n",
    "                   duration=20)\n",
    "\n",
    "toaster.show_toast(\"Example two\",\n",
    "                   \"This notification is in it's own thread!\",\n",
    "                   icon_path=None,\n",
    "                   duration=20,\n",
    "                   threaded=True)\n",
    "# Wait for threaded notification to finish\n",
    "while toaster.notification_active(): time.sleep(10)"
   ]
  }
 ],
 "metadata": {
  "kernelspec": {
   "display_name": "Python 3.9.7 64-bit",
   "language": "python",
   "name": "python3"
  },
  "language_info": {
   "codemirror_mode": {
    "name": "ipython",
    "version": 3
   },
   "file_extension": ".py",
   "mimetype": "text/x-python",
   "name": "python",
   "nbconvert_exporter": "python",
   "pygments_lexer": "ipython3",
   "version": "3.9.7"
  },
  "orig_nbformat": 4,
  "vscode": {
   "interpreter": {
    "hash": "2e4fcc08115f4a8477c550c96a5d14ccabbf7c7be47edad2193df8f764fea787"
   }
  }
 },
 "nbformat": 4,
 "nbformat_minor": 2
}
