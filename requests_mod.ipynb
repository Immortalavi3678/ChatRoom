{
 "cells": [
  {
   "cell_type": "code",
   "execution_count": 1,
   "metadata": {},
   "outputs": [
    {
     "name": "stdout",
     "output_type": "stream",
     "text": [
      "Requirement already satisfied: requests in /Library/Frameworks/Python.framework/Versions/3.7/lib/python3.7/site-packages (2.27.1)\n",
      "Requirement already satisfied: certifi>=2017.4.17 in /Library/Frameworks/Python.framework/Versions/3.7/lib/python3.7/site-packages (from requests) (2021.10.8)\n",
      "Requirement already satisfied: idna<4,>=2.5 in /Library/Frameworks/Python.framework/Versions/3.7/lib/python3.7/site-packages (from requests) (3.3)\n",
      "Requirement already satisfied: charset-normalizer~=2.0.0 in /Library/Frameworks/Python.framework/Versions/3.7/lib/python3.7/site-packages (from requests) (2.0.12)\n",
      "Requirement already satisfied: urllib3<1.27,>=1.21.1 in /Library/Frameworks/Python.framework/Versions/3.7/lib/python3.7/site-packages (from requests) (1.26.9)\n",
      "\u001b[33mWARNING: There was an error checking the latest version of pip.\u001b[0m\u001b[33m\n",
      "\u001b[0m"
     ]
    }
   ],
   "source": [
    "!pip install requests"
   ]
  },
  {
   "cell_type": "code",
   "execution_count": 2,
   "metadata": {},
   "outputs": [],
   "source": [
    "import requests"
   ]
  },
  {
   "cell_type": "markdown",
   "metadata": {},
   "source": [
    "# REST api"
   ]
  },
  {
   "cell_type": "code",
   "execution_count": 17,
   "metadata": {},
   "outputs": [],
   "source": [
    "api = \"b779d56361f1466cbe0135802210402\"\n",
    "que = \"Delhi\"\n",
    "aqi = \"yes\"\n",
    "url = f\"http://api.weatherapi.com/v1/current.json?key={api}&q={que}&aqi={aqi}\"\n",
    "r = requests.request(\"get\",url)"
   ]
  },
  {
   "cell_type": "code",
   "execution_count": 19,
   "metadata": {},
   "outputs": [
    {
     "data": {
      "text/plain": [
       "{'last_updated_epoch': 1659342600,\n",
       " 'last_updated': '2022-08-01 14:00',\n",
       " 'temp_c': 31.0,\n",
       " 'temp_f': 87.8,\n",
       " 'is_day': 1,\n",
       " 'condition': {'text': 'Mist',\n",
       "  'icon': '//cdn.weatherapi.com/weather/64x64/day/143.png',\n",
       "  'code': 1030},\n",
       " 'wind_mph': 4.3,\n",
       " 'wind_kph': 6.8,\n",
       " 'wind_degree': 240,\n",
       " 'wind_dir': 'WSW',\n",
       " 'pressure_mb': 1003.0,\n",
       " 'pressure_in': 29.62,\n",
       " 'precip_mm': 1.9,\n",
       " 'precip_in': 0.07,\n",
       " 'humidity': 71,\n",
       " 'cloud': 75,\n",
       " 'feelslike_c': 34.9,\n",
       " 'feelslike_f': 94.9,\n",
       " 'vis_km': 5.0,\n",
       " 'vis_miles': 3.0,\n",
       " 'uv': 7.0,\n",
       " 'gust_mph': 4.7,\n",
       " 'gust_kph': 7.6,\n",
       " 'air_quality': {'co': 357.20001220703125,\n",
       "  'no2': 7.099999904632568,\n",
       "  'o3': 50.79999923706055,\n",
       "  'so2': 7.099999904632568,\n",
       "  'pm2_5': 7.900000095367432,\n",
       "  'pm10': 10.800000190734863,\n",
       "  'us-epa-index': 1,\n",
       "  'gb-defra-index': 1}}"
      ]
     },
     "execution_count": 19,
     "metadata": {},
     "output_type": "execute_result"
    }
   ],
   "source": [
    "r.json()[\"current\"]"
   ]
  },
  {
   "cell_type": "markdown",
   "metadata": {},
   "source": [
    "# Image content"
   ]
  },
  {
   "cell_type": "code",
   "execution_count": 21,
   "metadata": {},
   "outputs": [],
   "source": [
    "url = \"https://covers.openlibrary.org/b/id/240727-M.jpg\"\n",
    "r = requests.request(\"get\",url)\n",
    "\n",
    "with open(\"image.jpg\",\"wb\") as f: \n",
    "    f.write(r.content)"
   ]
  },
  {
   "cell_type": "code",
   "execution_count": 23,
   "metadata": {},
   "outputs": [],
   "source": [
    "import threading as th\n",
    "import requests\n",
    "import time\n",
    "def download(image_address,url):\n",
    "    r = requests.request(\"get\",url)\n",
    "    with open(image_address,\"wb\") as f: \n",
    "        f.write(r.content)"
   ]
  },
  {
   "cell_type": "code",
   "execution_count": 22,
   "metadata": {},
   "outputs": [],
   "source": [
    "url1 = \"https://covers.openlibrary.org/b/id/240727-M.jpg\"\n",
    "url2 = \"https://images.pexels.com/photos/1172253/pexels-photo-1172253.jpeg?auto=compress&cs=tinysrgb&dpr=1&w=500\"\n",
    "url3 = \"https://cdn.pixabay.com/photo/2015/04/23/22/00/tree-736885__480.jpg\""
   ]
  },
  {
   "cell_type": "code",
   "execution_count": 24,
   "metadata": {},
   "outputs": [
    {
     "name": "stdout",
     "output_type": "stream",
     "text": [
      "ETA:  2.2394317439998304\n"
     ]
    }
   ],
   "source": [
    "start = time.perf_counter()\n",
    "download(\"image1.jpg\",url1)\n",
    "download(\"image2.jpg\",url2)\n",
    "download(\"image3.jpg\",url3)\n",
    "print(\"ETA: \",time.perf_counter()-start)"
   ]
  },
  {
   "cell_type": "code",
   "execution_count": 25,
   "metadata": {},
   "outputs": [
    {
     "name": "stdout",
     "output_type": "stream",
     "text": [
      "ETA:  1.0503417760000957\n"
     ]
    }
   ],
   "source": [
    "start = time.perf_counter()\n",
    "t1 = th.Thread(target=download,args=(\"image1.jpg\",url1))\n",
    "t2 = th.Thread(target=download,args=(\"image2.jpg\",url2))\n",
    "t3 = th.Thread(target=download,args=(\"image3.jpg\",url3))\n",
    "t1.start()\n",
    "t2.start()\n",
    "t3.start()\n",
    "t1.join()\n",
    "t2.join()\n",
    "t3.join()\n",
    "print(\"ETA: \",time.perf_counter()-start)"
   ]
  },
  {
   "cell_type": "code",
   "execution_count": null,
   "metadata": {},
   "outputs": [],
   "source": [
    "import concurrent.futures\n",
    "# async.io"
   ]
  }
 ],
 "metadata": {
  "kernelspec": {
   "display_name": "Python 3.9.7 64-bit",
   "language": "python",
   "name": "python3"
  },
  "language_info": {
   "codemirror_mode": {
    "name": "ipython",
    "version": 3
   },
   "file_extension": ".py",
   "mimetype": "text/x-python",
   "name": "python",
   "nbconvert_exporter": "python",
   "pygments_lexer": "ipython3",
   "version": "3.9.7"
  },
  "orig_nbformat": 4,
  "vscode": {
   "interpreter": {
    "hash": "397704579725e15f5c7cb49fe5f0341eb7531c82d19f2c29d197e8b64ab5776b"
   }
  }
 },
 "nbformat": 4,
 "nbformat_minor": 2
}
